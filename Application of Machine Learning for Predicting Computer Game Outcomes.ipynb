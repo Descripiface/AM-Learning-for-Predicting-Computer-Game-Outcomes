{
  "cells": [
    {
      "cell_type": "code",
      "execution_count": null,
      "metadata": {
        "id": "Lt1diogBkIXV"
      },
      "outputs": [],
      "source": [
        "import pandas as pd\n",
        "import numpy as np\n",
        "import seaborn as sns\n",
        "import matplotlib.pyplot as plt\n",
        "from sklearn.model_selection import cross_validate\n",
        "from sklearn.model_selection import train_test_split, cross_val_score\n",
        "from sklearn.metrics import accuracy_score\n",
        "from sklearn.svm import SVC\n",
        "from sklearn.linear_model import LogisticRegression\n",
        "from sklearn.discriminant_analysis import LinearDiscriminantAnalysis\n",
        "from sklearn.neighbors import KNeighborsClassifier\n",
        "from sklearn.tree import DecisionTreeClassifier\n",
        "from sklearn.ensemble import RandomForestClassifier\n",
        "from sklearn.metrics import accuracy_score\n",
        "from sklearn.model_selection import train_test_split\n",
        "from sklearn import preprocessing\n",
        "import random\n",
        "from sklearn.preprocessing import LabelEncoder, MinMaxScaler\n",
        "from sklearn import metrics\n",
        "from sklearn.tree import DecisionTreeClassifier\n",
        "from sklearn.ensemble import GradientBoostingClassifier\n",
        "from sklearn.datasets import make_classification\n",
        "from sklearn.metrics import accuracy_score, make_scorer\n",
        "from sklearn.model_selection import train_test_split"
      ]
    },
    {
      "cell_type": "code",
      "execution_count": null,
      "metadata": {
        "id": "FfDH1CujlTDH"
      },
      "outputs": [],
      "source": [
        "# Загружаем датасет\n",
        "data = pd.read_csv('csgo_round_snapshots.csv')\n",
        "data"
      ]
    },
    {
      "cell_type": "code",
      "execution_count": null,
      "metadata": {
        "id": "oIMzfWfrm3EO"
      },
      "outputs": [],
      "source": [
        "plt.figure(figsize=(8,6))\n",
        "ax = sns.countplot(x=\"map\", hue=\"round_winner\", data=data)\n",
        "ax.set(title='Round winners on each map')\n",
        "plt.show()"
      ]
    },
    {
      "cell_type": "code",
      "execution_count": null,
      "metadata": {
        "colab": {
          "background_save": true
        },
        "id": "4DRLh1jcpDrY",
        "outputId": "f2a849b8-2306-4c06-ae81-767b5e700edf"
      },
      "outputs": [
        {
          "ename": "NameError",
          "evalue": "ignored",
          "output_type": "error",
          "traceback": [
            "\u001b[0;31m---------------------------------------------------------------------------\u001b[0m",
            "\u001b[0;31mNameError\u001b[0m                                 Traceback (most recent call last)",
            "\u001b[0;32m<ipython-input-47-3a6403962c78>\u001b[0m in \u001b[0;36m<cell line: 2>\u001b[0;34m()\u001b[0m\n\u001b[1;32m      1\u001b[0m \u001b[0mplt\u001b[0m\u001b[0;34m.\u001b[0m\u001b[0mfigure\u001b[0m\u001b[0;34m(\u001b[0m\u001b[0mfigsize\u001b[0m\u001b[0;34m=\u001b[0m\u001b[0;34m(\u001b[0m\u001b[0;36m8\u001b[0m\u001b[0;34m,\u001b[0m\u001b[0;36m6\u001b[0m\u001b[0;34m)\u001b[0m\u001b[0;34m)\u001b[0m\u001b[0;34m\u001b[0m\u001b[0;34m\u001b[0m\u001b[0m\n\u001b[0;32m----> 2\u001b[0;31m \u001b[0max\u001b[0m \u001b[0;34m=\u001b[0m \u001b[0msns\u001b[0m\u001b[0;34m.\u001b[0m\u001b[0mcountplot\u001b[0m\u001b[0;34m(\u001b[0m\u001b[0mx\u001b[0m\u001b[0;34m=\u001b[0m\u001b[0;34m\"map\"\u001b[0m\u001b[0;34m,\u001b[0m \u001b[0mhue\u001b[0m\u001b[0;34m=\u001b[0m\u001b[0;34m\"bomb_planted\"\u001b[0m\u001b[0;34m,\u001b[0m \u001b[0mdata\u001b[0m\u001b[0;34m=\u001b[0m\u001b[0mdf\u001b[0m\u001b[0;34m)\u001b[0m\u001b[0;34m\u001b[0m\u001b[0;34m\u001b[0m\u001b[0m\n\u001b[0m\u001b[1;32m      3\u001b[0m \u001b[0max\u001b[0m\u001b[0;34m.\u001b[0m\u001b[0mset\u001b[0m\u001b[0;34m(\u001b[0m\u001b[0mtitle\u001b[0m\u001b[0;34m=\u001b[0m\u001b[0;34m'Maps and bomb planted'\u001b[0m\u001b[0;34m)\u001b[0m\u001b[0;34m\u001b[0m\u001b[0;34m\u001b[0m\u001b[0m\n\u001b[1;32m      4\u001b[0m \u001b[0mplt\u001b[0m\u001b[0;34m.\u001b[0m\u001b[0mshow\u001b[0m\u001b[0;34m(\u001b[0m\u001b[0;34m)\u001b[0m\u001b[0;34m\u001b[0m\u001b[0;34m\u001b[0m\u001b[0m\n",
            "\u001b[0;31mNameError\u001b[0m: name 'df' is not defined"
          ]
        },
        {
          "data": {
            "text/plain": [
              "<Figure size 800x600 with 0 Axes>"
            ]
          },
          "metadata": {},
          "output_type": "display_data"
        }
      ],
      "source": [
        "plt.figure(figsize=(8,6))\n",
        "ax = sns.countplot(x=\"map\", hue=\"bomb_planted\", data=df)\n",
        "ax.set(title='Maps and bomb planted')\n",
        "plt.show()"
      ]
    },
    {
      "cell_type": "code",
      "execution_count": null,
      "metadata": {
        "id": "D3_wrTSUpHXL"
      },
      "outputs": [],
      "source": [
        "plt.figure(figsize=(8,6))\n",
        "ax = sns.barplot(x=df['round_winner'].unique(), y=df['round_winner'].value_counts())\n",
        "ax.set(title='Total wins per side', xlabel='Side', ylabel='Wins')\n",
        "plt.show()"
      ]
    },
    {
      "cell_type": "code",
      "execution_count": null,
      "metadata": {
        "id": "F2gtA84LpJAB"
      },
      "outputs": [],
      "source": [
        "fig, (ax1, ax2) = plt.subplots(ncols=2, sharey=True, figsize=(12,5))\n",
        "sns.distplot(df['ct_health'], bins=10, ax=ax1);\n",
        "sns.distplot(df['t_health'], bins=10, ax=ax2);"
      ]
    },
    {
      "cell_type": "code",
      "execution_count": null,
      "metadata": {
        "id": "_TAOsUX4pLEi"
      },
      "outputs": [],
      "source": [
        "# Plot the distribution of money\n",
        "fig, (ax1, ax2) = plt.subplots(ncols=2, sharey=True, figsize=(12,5))\n",
        "sns.distplot(df['ct_money'], bins=10, ax=ax1);\n",
        "sns.distplot(df['t_money'], bins=10, ax=ax2"
      ]
    },
    {
      "cell_type": "code",
      "execution_count": null,
      "metadata": {
        "id": "NbmCn_3QsD9D"
      },
      "outputs": [],
      "source": [
        "# Plot the distribution of scores\n",
        "fig, (ax1, ax2) = plt.subplots(ncols=2, sharey=True, figsize=(12,5))\n",
        "sns.kdeplot(df['ct_score'], shade=True, ax=ax1)\n",
        "sns.kdeplot(df['t_score'], shade=True, ax=ax2)"
      ]
    },
    {
      "cell_type": "code",
      "execution_count": null,
      "metadata": {
        "id": "N7FEmWrfq89g"
      },
      "outputs": [],
      "source": [
        "# Описание датасета\n",
        "print(data.info())"
      ]
    },
    {
      "cell_type": "code",
      "execution_count": null,
      "metadata": {
        "id": "7f0qpp6XrEGB"
      },
      "outputs": [],
      "source": [
        "print(data.describe())"
      ]
    },
    {
      "cell_type": "code",
      "execution_count": null,
      "metadata": {
        "id": "ORY_fhhjrJLj"
      },
      "outputs": [],
      "source": [
        "# Смотрим, какие значения имеются в столбцах\n",
        "for col_name in data.columns:\n",
        "    # Do something with the column data\n",
        "    print(f\"Column Name: {col_name}\")\n",
        "    print(data[col_name].value_counts())\n",
        "    print(\"-----------------\")"
      ]
    },
    {
      "cell_type": "code",
      "execution_count": null,
      "metadata": {
        "id": "ed-MwhKTsK2x"
      },
      "outputs": [],
      "source": [
        "# Количество уникальных значений в столбцах\n",
        "for col_name in data.columns:\n",
        "    # Do something with the column data\n",
        "    print(f\"Column Name: {col_name}\")\n",
        "    print(data[col_name].nunique())\n",
        "    print(\"-----------------\")"
      ]
    },
    {
      "cell_type": "code",
      "execution_count": null,
      "metadata": {
        "id": "-rTP_56VsS64"
      },
      "outputs": [],
      "source": [
        "# Провека на пустые значения\n",
        "\n",
        "for col_name in data.columns:\n",
        "    # Do something with the column data\n",
        "    print(f\"Column Name: {col_name}\")\n",
        "    print(data[col_name].isnull().sum(), data[col_name].dtype)\n",
        "    print(\"-----------------\")"
      ]
    },
    {
      "cell_type": "code",
      "execution_count": null,
      "metadata": {
        "id": "A5LtkdT3sbMm"
      },
      "outputs": [],
      "source": [
        "data_list = [\"t_grenade_smokegrenade\", \"ct_grenade_smokegrenade\",\"t_grenade_flashbang\",\"ct_grenade_flashbang\", \"ct_weapon_usps\", \"t_weapon_glock\", \"t_weapon_cz75auto\", \"t_players_alive\"]\n",
        "for col_name in data_list:\n",
        "  sns.boxplot(data[col_name])\n",
        "  plt.show()"
      ]
    },
    {
      "cell_type": "code",
      "execution_count": null,
      "metadata": {
        "id": "cRdEgjOsIz1T"
      },
      "outputs": [],
      "source": [
        "data_list = [\"t_grenade_smokegrenade\", \"ct_grenade_smokegrenade\",\"t_grenade_flashbang\",\"ct_grenade_flashbang\", \"ct_weapon_usps\", \"t_weapon_glock\", \"t_weapon_cz75auto\", \"t_players_alive\"]\n",
        "for col_name in data_list:\n",
        "  data = data[(data[col_name] < 6)]"
      ]
    },
    {
      "cell_type": "code",
      "execution_count": null,
      "metadata": {
        "id": "tPs6ntmAJMMg"
      },
      "outputs": [],
      "source": [
        "# Смотрим, какие значения имеются в столбцах\n",
        "for col_name in data.columns:\n",
        "    # Do something with the column data\n",
        "    print(f\"Column Name: {col_name}\")\n",
        "    print(data[col_name].value_counts())\n",
        "    print(\"-----------------\")"
      ]
    },
    {
      "cell_type": "code",
      "execution_count": null,
      "metadata": {
        "id": "nHS-gji2J7K2"
      },
      "outputs": [],
      "source": [
        "data = pd.get_dummies(data = data, columns=[\"map\",\"bomb_planted\"])\n",
        "encoder = LabelEncoder()\n",
        "data[\"round_winner\"] = encoder.fit_transform(data[\"round_winner\"])\n",
        "data"
      ]
    },
    {
      "cell_type": "code",
      "execution_count": null,
      "metadata": {
        "id": "pEJhUXRtULk0"
      },
      "outputs": [],
      "source": [
        "def test_accuracy_LinearRegression(data):\n",
        "    x = data.drop('round_winner', axis = 1)\n",
        "    y = data['round_winner']\n",
        "    x_train, x_test, y_train, y_test = train_test_split(x, y, test_size = 0.2, random_state = True)\n",
        "    x_train = MinMaxScaler().fit_transform(x_train)\n",
        "    x_test = MinMaxScaler().fit_transform(x_test)\n",
        "\n",
        "    best_accuracy = 0\n",
        "    best_C = None\n",
        "\n",
        "    for i in range(5,25):\n",
        "        logistic_regression = LogisticRegression(max_iter=100000, C=i)\n",
        "        logistic_regression.fit(x_train, y_train)\n",
        "        y_pred = logistic_regression.predict(x_test)\n",
        "        accuracy = accuracy_score(y_test, y_pred)\n",
        "        print(\"Точность с гиперпараметром: \", accuracy,\"С =\",i)\n",
        "        if accuracy > best_accuracy:\n",
        "            best_accuracy = accuracy\n",
        "            best_C = i\n",
        "\n",
        "    print(\"Лучшее C:\", best_C, \"с точностью:\", best_accuracy)\n",
        "\n",
        "\n",
        "\n",
        "    logistic_regression = LogisticRegression(max_iter=100000, C = best_C)\n",
        "\n",
        "    scores = cross_val_score(logistic_regression, x_train, y_train, cv=5)\n",
        "    print(\"Средняя достоверность кросс-валидации: %0.2f (+/- %0.2f)\" % (scores.mean(), scores.std() * 2))\n",
        "\n",
        "    logistic_regression.fit(x_train, y_train)\n",
        "\n",
        "    y_pred = logistic_regression.predict(x_test)\n",
        "\n",
        "   #Метрика достоверности предсказания:\n",
        "    print(f\"Метрика достоверности предсказания: {metrics.accuracy_score(y_test, y_pred)}\")\n",
        "    #Метрика точности:\n",
        "    print(f\"Метрика точности: {metrics.precision_score(y_test, y_pred, pos_label=1)}\")\n",
        "    #Метрика полноты:\n",
        "    print(f\"Метрика полноты: {metrics.recall_score(y_test, y_pred,  pos_label=1)}\")\n",
        "\n",
        "    %matplotlib inline\n",
        "    class_names = [0, 1]\n",
        "    fig, ax = plt.subplots()\n",
        "    ticks = np.arange(len(class_names))\n",
        "    plt.xticks(ticks, class_names)\n",
        "    plt.yticks(ticks, class_names)\n",
        "    sns.heatmap(pd.DataFrame(\n",
        "        metrics.confusion_matrix(y_test, y_pred)),\n",
        "        annot=True)\n",
        "    plt.ylabel('Действительные значения')\n",
        "    plt.xlabel('Предсказанные значения')"
      ]
    },
    {
      "cell_type": "code",
      "execution_count": null,
      "metadata": {
        "id": "Ebg6flBlNhzC"
      },
      "outputs": [],
      "source": [
        "def test_accuracy_DecisionTreeClassifier(data):\n",
        "    x = data.drop('round_winner', axis = 1)\n",
        "    y = data['round_winner']\n",
        "    x_train, x_test, y_train, y_test = train_test_split(x, y, test_size = 0.2, random_state = True)\n",
        "    x_train = MinMaxScaler().fit_transform(x_train)\n",
        "    x_test = MinMaxScaler().fit_transform(x_test)\n",
        "\n",
        "    best_accuracy = 0\n",
        "    best_min_samples_split = None\n",
        "\n",
        "    for i in range(2,20):\n",
        "        clf = DecisionTreeClassifier(min_samples_split=i)\n",
        "        clf.fit(x_train, y_train)\n",
        "        y_pred = clf.predict(x_test)\n",
        "        accuracy = accuracy_score(y_test, y_pred)\n",
        "        print(\"Точность с гиперпараметром: \", accuracy,\"min_samples_split =\",i)\n",
        "        if accuracy > best_accuracy:\n",
        "            best_accuracy = accuracy\n",
        "            best_min_samples_split = i\n",
        "\n",
        "    print(\"Лучшее min_samples_split:\", best_min_samples_split, \"с точностью:\", best_accuracy)\n",
        "\n",
        "\n",
        "\n",
        "    clf = DecisionTreeClassifier( min_samples_split = best_min_samples_split)\n",
        "\n",
        "    scores = cross_val_score(clf, x_train, y_train, cv=5)\n",
        "    print(\"Средняя достоверность кросс-валидации: %0.2f (+/- %0.2f)\" % (scores.mean(), scores.std() * 2))\n",
        "\n",
        "    clf.fit(x_train, y_train)\n",
        "\n",
        "    y_pred = clf.predict(x_test)\n",
        "\n",
        "   #Метрика достоверности предсказания:\n",
        "    print(f\"Метрика достоверности предсказания: {metrics.accuracy_score(y_test, y_pred)}\")\n",
        "    #Метрика точности:\n",
        "    print(f\"Метрика точности: {metrics.precision_score(y_test, y_pred, pos_label=1)}\")\n",
        "    #Метрика полноты:\n",
        "    print(f\"Метрика полноты: {metrics.recall_score(y_test, y_pred,  pos_label=1)}\")\n",
        "\n",
        "    %matplotlib inline\n",
        "    class_names = [0, 1]\n",
        "    fig, ax = plt.subplots()\n",
        "    ticks = np.arange(len(class_names))\n",
        "    plt.xticks(ticks, class_names)\n",
        "    plt.yticks(ticks, class_names)\n",
        "    sns.heatmap(pd.DataFrame(\n",
        "        metrics.confusion_matrix(y_test, y_pred)),\n",
        "        annot=True)\n",
        "    plt.ylabel('Действительные значения')\n",
        "    plt.xlabel('Предсказанные значения')"
      ]
    },
    {
      "cell_type": "code",
      "execution_count": null,
      "metadata": {
        "id": "WSxFX5gRQKTO"
      },
      "outputs": [],
      "source": [
        "def test_accuracy_RandomForestClassifier(data):\n",
        "    x = data.drop('round_winner', axis = 1)\n",
        "    y = data['round_winner']\n",
        "    x_train, x_test, y_train, y_test = train_test_split(x, y, test_size = 0.2, random_state = True)\n",
        "    x_train = MinMaxScaler().fit_transform(x_train)\n",
        "    x_test = MinMaxScaler().fit_transform(x_test)\n",
        "\n",
        "    best_accuracy = 0\n",
        "    best_random_state = None\n",
        "\n",
        "    for i in range(10,60):\n",
        "        clf = RandomForestClassifier(random_state=i)\n",
        "        clf.fit(x_train, y_train)\n",
        "        y_pred = clf.predict(x_test)\n",
        "        accuracy = accuracy_score(y_test, y_pred)\n",
        "        print(\"Точность с гиперпараметром: \", accuracy,\"random_state =\",i)\n",
        "        if accuracy > best_accuracy:\n",
        "            best_accuracy = accuracy\n",
        "            best_random_state = i\n",
        "\n",
        "    print(\"Лучшее random_state:\", best_random_state, \"с точностью:\", best_accuracy)\n",
        "\n",
        "\n",
        "\n",
        "    clf = RandomForestClassifier( random_state = best_random_state)\n",
        "\n",
        "    scores = cross_val_score(clf, x_train, y_train, cv=5)\n",
        "    print(\"Средняя достоверность кросс-валидации: %0.2f (+/- %0.2f)\" % (scores.mean(), scores.std() * 2))\n",
        "\n",
        "    clf.fit(x_train, y_train)\n",
        "\n",
        "    y_pred = clf.predict(x_test)\n",
        "\n",
        "   #Метрика достоверности предсказания:\n",
        "    print(f\"Метрика достоверности предсказания: {metrics.accuracy_score(y_test, y_pred)}\")\n",
        "    #Метрика точности:\n",
        "    print(f\"Метрика точности: {metrics.precision_score(y_test, y_pred, pos_label=1)}\")\n",
        "    #Метрика полноты:\n",
        "    print(f\"Метрика полноты: {metrics.recall_score(y_test, y_pred,  pos_label=1)}\")\n",
        "\n",
        "    %matplotlib inline\n",
        "    class_names = [0, 1]\n",
        "    fig, ax = plt.subplots()\n",
        "    ticks = np.arange(len(class_names))\n",
        "    plt.xticks(ticks, class_names)\n",
        "    plt.yticks(ticks, class_names)\n",
        "    sns.heatmap(pd.DataFrame(\n",
        "        metrics.confusion_matrix(y_test, y_pred)),\n",
        "        annot=True)\n",
        "    plt.ylabel('Действительные значения')\n",
        "    plt.xlabel('Предсказанные значения')"
      ]
    },
    {
      "cell_type": "code",
      "execution_count": null,
      "metadata": {
        "id": "PIenxwGmYcch"
      },
      "outputs": [],
      "source": [
        "def test_accuracy_GradientBoostingClassifier(data):\n",
        "    x = data.drop('round_winner', axis = 1)\n",
        "    y = data['round_winner']\n",
        "    x_train, x_test, y_train, y_test = train_test_split(x, y, test_size = 0.2, random_state = True)\n",
        "    x_train = MinMaxScaler().fit_transform(x_train)\n",
        "    x_test = MinMaxScaler().fit_transform(x_test)\n",
        "\n",
        "    best_accuracy = 0\n",
        "    best_max_depth = None\n",
        "\n",
        "    for i in range(13,21):\n",
        "        lin_reg = GradientBoostingClassifier(max_depth=i)\n",
        "        lin_reg.fit(x_train, y_train)\n",
        "        y_pred = lin_reg.predict(x_test)\n",
        "        accuracy = accuracy_score(y_test, y_pred)\n",
        "        print(\"Точность с гиперпараметром: \", accuracy,\" max_depth =\",i)\n",
        "        if accuracy > best_accuracy:\n",
        "            best_accuracy = accuracy\n",
        "            best_max_depth = i\n",
        "\n",
        "    print(\"Лучшее max_depth:\", best_max_depth, \"Лучшее \" \"с точностью:\", best_accuracy)\n",
        "\n",
        "\n",
        "\n",
        "    lin_reg = GradientBoostingClassifier( n_estimators = 40, max_depth=best_max_depth) #логистическая регрессия (ВЫБИРАЕМ САМИ ПОД КАЖДЫЙ ДАТАСЕТ СВОЙ ЛУЧШЕ ПОДОЙДЕТ)\n",
        "\n",
        "    scores = cross_val_score(lin_reg, x_train, y_train, cv=5) #кросс-валидация с 5 фолдами\n",
        "    print(\"Средняя достоверность кросс-валидации: %0.2f (+/- %0.2f)\" % (scores.mean(), scores.std() * 2))\n",
        "\n",
        "    lin_reg.fit(x_train, y_train)\n",
        "\n",
        "    y_pred = lin_reg.predict(x_test)\n",
        "\n",
        "   #Метрика достоверности предсказания:\n",
        "    print(f\"Метрика достоверности предсказания: {metrics.accuracy_score(y_test, y_pred)}\")\n",
        "    #Метрика точности:\n",
        "    print(f\"Метрика точности: {metrics.precision_score(y_test, y_pred, pos_label=1)}\")\n",
        "    #Метрика полноты:\n",
        "    print(f\"Метрика полноты: {metrics.recall_score(y_test, y_pred,  pos_label=1)}\")\n",
        "\n",
        "    %matplotlib inline\n",
        "    class_names = [0, 1]\n",
        "    fig, ax = plt.subplots()\n",
        "    ticks = np.arange(len(class_names))\n",
        "    plt.xticks(ticks, class_names)\n",
        "    plt.yticks(ticks, class_names)\n",
        "    sns.heatmap(pd.DataFrame(\n",
        "        metrics.confusion_matrix(y_test, y_pred)),\n",
        "        annot=True)\n",
        "    plt.ylabel('Действительные значения')\n",
        "    plt.xlabel('Предсказанные значения')"
      ]
    },
    {
      "cell_type": "code",
      "execution_count": null,
      "metadata": {
        "id": "nxjyglpnVBiR"
      },
      "outputs": [],
      "source": [
        "test_accuracy_LinearRegression(data)"
      ]
    },
    {
      "cell_type": "code",
      "execution_count": null,
      "metadata": {
        "id": "NbR-FjtkPCQ_"
      },
      "outputs": [],
      "source": [
        "test_accuracy_DecisionTreeClassifier(data)"
      ]
    },
    {
      "cell_type": "code",
      "execution_count": null,
      "metadata": {
        "colab": {
          "background_save": true,
          "base_uri": "https://localhost:8080/"
        },
        "id": "IZnalOPeWHeO",
        "outputId": "a8bc8ce8-8508-448a-8719-000bdfb68cd8"
      },
      "outputs": [
        {
          "name": "stdout",
          "output_type": "stream",
          "text": [
            "Точность с гиперпараметром:  0.8811971969349662 random_state = 10\n",
            "Точность с гиперпараметром:  0.8801493221560024 random_state = 11\n",
            "Точность с гиперпараметром:  0.8824415482349859 random_state = 12\n",
            "Точность с гиперпараметром:  0.8823105638876154 random_state = 13\n",
            "Точность с гиперпараметром:  0.8802148143296876 random_state = 14\n",
            "Точность с гиперпараметром:  0.8827035169297269 random_state = 15\n",
            "Точность с гиперпараметром:  0.881393673456022 random_state = 16\n",
            "Точность с гиперпараметром:  0.8800183378086319 random_state = 17\n",
            "Точность с гиперпараметром:  0.8829654856244679 random_state = 18\n",
            "Точность с гиперпараметром:  0.8808042438928548 random_state = 19\n",
            "Точность с гиперпараметром:  0.8821140873665597 random_state = 20\n",
            "Точность с гиперпараметром:  0.8825725325823565 random_state = 21\n",
            "Точность с гиперпараметром:  0.8831619621455236 random_state = 22\n",
            "Точность с гиперпараметром:  0.8844063134455432 random_state = 23\n",
            "Точность с гиперпараметром:  0.8802148143296876 random_state = 24\n",
            "Точность с гиперпараметром:  0.8830964699718383 random_state = 25\n",
            "Точность с гиперпараметром:  0.8794289082454647 random_state = 26\n",
            "Точность с гиперпараметром:  0.8795598925928352 random_state = 27\n",
            "Точность с гиперпараметром:  0.8825070404086711 random_state = 28\n",
            "Точность с гиперпараметром:  0.8811971969349662 random_state = 29\n",
            "Точность с гиперпараметром:  0.8825725325823565 random_state = 30\n",
            "Точность с гиперпараметром:  0.8802148143296876 random_state = 31\n",
            "Точность с гиперпараметром:  0.8821140873665597 random_state = 32\n",
            "Точность с гиперпараметром:  0.8844718056192286 random_state = 33\n",
            "Точность с гиперпараметром:  0.8823105638876154 random_state = 34\n",
            "Точность с гиперпараметром:  0.8827035169297269 random_state = 35\n",
            "Точность с гиперпараметром:  0.8819831030191893 random_state = 36\n",
            "Точность с гиперпараметром:  0.8831619621455236 random_state = 37\n",
            "Точность с гиперпараметром:  0.8799528456349466 random_state = 38\n",
            "Точность с гиперпараметром:  0.8828345012770974 random_state = 39\n",
            "Точность с гиперпараметром:  0.8826380247560417 random_state = 40\n",
            "Точность с гиперпараметром:  0.8798218612875761 random_state = 41\n",
            "Точность с гиперпараметром:  0.8810007204139105 random_state = 42\n",
            "Точность с гиперпараметром:  0.8796908769402056 random_state = 43\n",
            "Точность с гиперпараметром:  0.8827690091034122 random_state = 44\n",
            "Точность с гиперпараметром:  0.8837513917086908 random_state = 45\n",
            "Точность с гиперпараметром:  0.8825725325823565 random_state = 46\n",
            "Точность с гиперпараметром:  0.8804767830244286 random_state = 47\n",
            "Точность с гиперпараметром:  0.8823760560613007 random_state = 48\n",
            "Точность с гиперпараметром:  0.8829654856244679 random_state = 49\n",
            "Точность с гиперпараметром:  0.8828345012770974 random_state = 50\n",
            "Точность с гиперпараметром:  0.8825725325823565 random_state = 51\n",
            "Точность с гиперпараметром:  0.8808697360665401 random_state = 52\n",
            "Точность с гиперпараметром:  0.8830309777981531 random_state = 53\n",
            "Точность с гиперпараметром:  0.8814591656297073 random_state = 54\n",
            "Точность с гиперпараметром:  0.8819831030191893 random_state = 55\n",
            "Точность с гиперпараметром:  0.8822450717139302 random_state = 56\n",
            "Точность с гиперпараметром:  0.8839478682297466 random_state = 57\n",
            "Точность с гиперпараметром:  0.8802803065033729 random_state = 58\n",
            "Точность с гиперпараметром:  0.8812626891086515 random_state = 59\n",
            "Лучшее random_state: 33 с точностью: 0.8844718056192286\n",
            "Средняя достоверность кросс-валидации: 0.87 (+/- 0.00)\n",
            "Метрика достоверности предсказания: 0.8844718056192286\n",
            "Метрика точности: 0.8934511434511434\n",
            "Метрика полноты: 0.8792838874680307\n"
          ]
        },
        {
          "data": {
            "image/png": "[encoded data removed]",
            "text/plain": [
              "<Figure size 640x480 with 2 Axes>"
            ]
          },
          "metadata": {},
          "output_type": "display_data"
        }
      ],
      "source": [
        "test_accuracy_RandomForestClassifier(data)"
      ]
    },
    {
      "cell_type": "code",
      "execution_count": null,
      "metadata": {
        "id": "_amHWouqThQQ"
      },
      "outputs": [],
      "source": [
        "test_accuracy_GradientBoostingClassifier(data)"
      ]
    }
  ],
  "metadata": {
    "colab": {
      "provenance": []
    },
    "kernelspec": {
      "display_name": "Python 3",
      "name": "python3"
    },
    "language_info": {
      "name": "python"
    }
  },
  "nbformat": 4,
  "nbformat_minor": 0
}